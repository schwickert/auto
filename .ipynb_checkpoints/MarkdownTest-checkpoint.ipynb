{
 "cells": [
  {
   "cell_type": "markdown",
   "metadata": {},
   "source": [
    "# **Finding Lane Lines on the Road** \n",
    "\n",
    "##  2018-02-22\n",
    "\n",
    "### Markus\n",
    "\n",
    "---\n",
    "\n",
    "**Finding Lane Lines on the Road**\n",
    "\n",
    "The goals / steps of this project are the following:\n",
    "* Make a pipeline that finds lane lines on the road\n",
    "* Reflect on your work in a written report\n",
    "\n",
    "---\n",
    "\n",
    "### Reflection\n",
    "\n",
    "### 1. Describe your pipeline. As part of the description, explain how you modified the draw_lines() function.\n",
    "\n",
    "Original image:\n",
    "![png](./output/output_2_2.png)\n",
    "\n",
    "Reducing the image data by\n",
    "\n",
    "1) applying the color threshold \n",
    "![png](output/output_4_0.png)\n",
    "\n",
    "2) making it gray scale\n",
    "![png](output/output_5_1.png)\n",
    "\n",
    "3) perspective mask. \n",
    "![png](output/output_6_1.png)\n",
    "\n",
    "4) using Canny edge detection to find object/line outlines\n",
    "![png](output/output_7_1.png)\n",
    "\n",
    "5) with Hough transformation with radial coordinates identify line segmets\n",
    "![png](output/output_8_2.png)\n",
    "\n",
    "\n",
    "\n",
    "### 2. Identify potential shortcomings with your current pipeline\n",
    "\n",
    "\n",
    "* Polygon masking is not dynamic. If a camera shifts, side wind, the road curves, there is a vertical changing slope, the masking may fail.\n",
    "* Contrast betweeen road and markings might not be there in gray scale.\n",
    "* line markings could be obscured by leaves, objects, etc.\n",
    "\n",
    "\n",
    "### 3. Suggest possible improvements to your pipeline\n",
    "\n",
    "A possible improvement would be to dynamically adjust \n",
    "- image color line detection, color filters etc.\n",
    "- multiple runs with different color detection could be done with filters that enhance the markings. (after all there is meaning to the color)\n",
    "- finally, one should be aware of line thickness, dashed or solid lines, double lines etc. since there is meaning to that.\n",
    "- redefining region of interest based on last frame line findings\n",
    "- relative image coordinates to adjust to different size image frames (not an issue in an actual car unless hardware changes)\n",
    "- likelihood filter to make sense of the lines. One could only allow so and so much of a change from one frame to the other. \n",
    "- instead of fitting the data found in the pipeline to a line, one could model what a line should look like including curves etc. and fit the data to that.\n",
    "\n",
    "Finally, the video pipeline was developed a bit further to include the solid line fits:\n",
    "![png](output/output_9_2.png)\n",
    "\n",
    "\n",
    "\n"
   ]
  },
  {
   "cell_type": "code",
   "execution_count": null,
   "metadata": {},
   "outputs": [],
   "source": []
  }
 ],
 "metadata": {
  "kernelspec": {
   "display_name": "Python 3",
   "language": "python",
   "name": "python3"
  },
  "language_info": {
   "codemirror_mode": {
    "name": "ipython",
    "version": 3
   },
   "file_extension": ".py",
   "mimetype": "text/x-python",
   "name": "python",
   "nbconvert_exporter": "python",
   "pygments_lexer": "ipython3",
   "version": "3.5.2"
  },
  "widgets": {
   "state": {},
   "version": "1.1.2"
  }
 },
 "nbformat": 4,
 "nbformat_minor": 2
}
